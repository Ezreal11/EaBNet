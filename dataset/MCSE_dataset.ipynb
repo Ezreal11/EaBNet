{
 "cells": [
  {
   "cell_type": "markdown",
   "id": "b6172f04-c61a-4cf4-89b6-9983b91c39cc",
   "metadata": {},
   "source": [
    "# Generation and debugging script for the Multi Channel Speech Enhancement Dataset"
   ]
  },
  {
   "cell_type": "code",
   "execution_count": null,
   "id": "0f19ec85-6fb9-4ecd-ba23-bd3ca2e10104",
   "metadata": {},
   "outputs": [],
   "source": [
    "import numpy as np\n",
    "import pyroomacoustics as pra\n",
    "from scipy.io import wavfile\n",
    "import IPython\n",
    "import os\n",
    "import matplotlib.pyplot as plt\n",
    "import sys\n",
    "sys.path.append('..')\n",
    "%reload_ext autoreload\n",
    "%autoreload 2"
   ]
  },
  {
   "cell_type": "markdown",
   "id": "e1f01455-54fa-44ce-acaa-12c83de9e679",
   "metadata": {},
   "source": [
    "## Split the source datas for train and val"
   ]
  },
  {
   "cell_type": "code",
   "execution_count": null,
   "id": "8206ade5-9ef0-4eaa-822e-94a702b95045",
   "metadata": {},
   "outputs": [],
   "source": [
    "# load all clean speeches\n",
    "clean_root = '../data/datasets/datasets_fullband/clean_fullband/read_speech'\n",
    "clean_records = os.listdir(clean_root)\n",
    "clean_records.sort()\n",
    "print(len(clean_records))\n",
    "\n",
    "# split train and val clean speeches set\n",
    "data_split = {'train':20,'val':1}\n",
    "n_clean_train = int(len(clean_records)*data_split['train']/sum(data_split.values()))\n",
    "\n",
    "rs = np.random.RandomState(123)\n",
    "\n",
    "rs.shuffle(clean_records)\n",
    "cleans_train = clean_records[:n_clean_train]\n",
    "cleans_val = clean_records[n_clean_train:]\n",
    "print(f'clean train:val = {len(cleans_train)}:{len(cleans_val)}')\n",
    "\n",
    "# load all noises\n",
    "noise_root = '../data/datasets/datasets_fullband/noise_fullband'\n",
    "noise_records = os.listdir(noise_root)\n",
    "noise_records.sort()\n",
    "print(len(noise_records))\n",
    "\n",
    "# split train and val noise speeches set\n",
    "n_noise_train = int(len(noise_records)*data_split['train']/sum(data_split.values()))\n",
    "\n",
    "rs.shuffle(noise_records)\n",
    "noises_train = noise_records[:n_noise_train]\n",
    "noises_val = noise_records[n_noise_train:]\n",
    "print(f'noise train:val = {len(noises_train)}:{len(noises_val)}')\n",
    "\n",
    "write_to_files = True\n",
    "if write_to_files:\n",
    "    # write to files\n",
    "    with open('../data/datasets/datasets_fullband/cleans_train', 'w') as f:\n",
    "        for i,x in enumerate(cleans_train):\n",
    "            if i>0:\n",
    "                f.write('\\n')\n",
    "            f.write(x)\n",
    "    with open('../data/datasets/datasets_fullband/noises_train', 'w') as f:\n",
    "        for i,x in enumerate(noises_train):\n",
    "            if i>0:\n",
    "                f.write('\\n')\n",
    "            f.write(x)\n",
    "    with open('../data/datasets/datasets_fullband/cleans_val', 'w') as f:\n",
    "        for i,x in enumerate(cleans_val):\n",
    "            if i>0:\n",
    "                f.write('\\n')\n",
    "            f.write(x)\n",
    "    with open('../data/datasets/datasets_fullband/noises_val', 'w') as f:\n",
    "        for i,x in enumerate(noises_val):\n",
    "            if i>0:\n",
    "                f.write('\\n')\n",
    "            f.write(x)"
   ]
  },
  {
   "cell_type": "code",
   "execution_count": null,
   "id": "4d9d951b-56ab-4cfd-b4f5-f1a608321ac6",
   "metadata": {},
   "outputs": [],
   "source": [
    "fs, clean = wavfile.read(os.path.join(clean_root,cleans_val[0]))\n",
    "print(fs,clean.dtype)\n",
    "IPython.display.display(IPython.display.Audio(clean, rate=fs))\n",
    "fs, noise = wavfile.read(os.path.join(noise_root,noises_val[0]))\n",
    "IPython.display.display(IPython.display.Audio(noise , rate=fs))"
   ]
  },
  {
   "cell_type": "markdown",
   "id": "f7ef60ef-4fcf-4652-8943-37fed19dcab6",
   "metadata": {},
   "source": [
    "## Sample generation play ground\n",
    "\n"
   ]
  },
  {
   "cell_type": "code",
   "execution_count": null,
   "id": "edf5f78e-7a70-47b8-a6ad-063563095535",
   "metadata": {},
   "outputs": [],
   "source": [
    "import json\n",
    "from dataset.mcse_dataset import generate_random_noisy_for_speech\n",
    "with open('mcse_dataset_settings_v2.json','r') as f:\n",
    "    opt = json.load(f)\n",
    "fs = opt['audio']['fs']\n",
    "sample = generate_random_noisy_for_speech(opt, 8, cleans_val[0], noises_val, clean_root, noise_root)\n",
    "meta = sample['meta']\n",
    "room = sample['room']\n",
    "freefield = sample['freefield']\n",
    "noisy = sample['noisy']\n",
    "clean = sample['clean']\n",
    "fig, ax = room.plot(img_order=0)\n",
    "print(ax)\n",
    "ax.view_init(elev=90,azim=-90)\n",
    "ax.set_xlabel('x')\n",
    "ax.set_ylabel('y')\n",
    "print(meta)"
   ]
  },
  {
   "cell_type": "code",
   "execution_count": null,
   "id": "7094cee9-c053-4874-ae30-f9607ca0bb15",
   "metadata": {},
   "outputs": [],
   "source": [
    "def show_audio(audio,fs,name):\n",
    "    print(f'{name} shape={audio.shape}')\n",
    "    plt.plot(audio)\n",
    "    plt.show()\n",
    "    IPython.display.display(IPython.display.Audio(audio, rate=fs))\n",
    "    \n",
    "# plt.plot(room.rir[0][0])\n",
    "# plt.show()\n",
    "# plt.plot(freefield.rir[0][0])\n",
    "# plt.show()\n",
    "print(noisy.shape)\n",
    "print(clean.shape)\n",
    "show_audio(noisy[0],fs,'noisy[0]')\n",
    "show_audio(clean,fs,'clean')"
   ]
  },
  {
   "cell_type": "code",
   "execution_count": null,
   "id": "a0b642c2-61b4-4f11-9d3b-2949a9cd75a2",
   "metadata": {},
   "outputs": [],
   "source": [
    "\n",
    "show_audio(clean,fs,'clean')\n",
    "show_audio(noisy[0],fs,'noisy[0]')\n",
    "show_audio(noisy[0]-clean,fs,'noisy[0]-clean')\n"
   ]
  },
  {
   "cell_type": "markdown",
   "id": "13ce9851-36a6-4d07-a7a6-84d7043346c1",
   "metadata": {},
   "source": [
    "## Generate val samples\n",
    "\n",
    "We only generate validation samples while training samples are generated online."
   ]
  },
  {
   "cell_type": "code",
   "execution_count": null,
   "id": "b58cd4ca-332f-4f30-ad1a-d9f847713dc3",
   "metadata": {},
   "outputs": [],
   "source": [
    "import pickle\n",
    "from tqdm import tqdm\n",
    "\n",
    "with open('mcse_dataset_settings_v2.json','r') as f:\n",
    "    opt = json.load(f)\n",
    "data_val_root = '../data/datasets/mcse_val_setting2'\n",
    "if not os.path.exists(data_val_root):\n",
    "    os.makedirs(data_val_root)\n",
    "    \n",
    "noisy_val_root = os.path.join(data_val_root,'noisy')\n",
    "if not os.path.exists(noisy_val_root):\n",
    "    os.makedirs(noisy_val_root)\n",
    "    \n",
    "clean_val_root = os.path.join(data_val_root,'clean')\n",
    "if not os.path.exists(clean_val_root):\n",
    "    os.makedirs(clean_val_root)\n",
    "    \n",
    "meta_val_root = os.path.join(data_val_root,'meta')\n",
    "if not os.path.exists(meta_val_root):\n",
    "    os.makedirs(meta_val_root)\n",
    "\n",
    "def write_meta(meta_root,name):\n",
    "    with open(os.path.join(meta_root,f'{name}.pickle'),'wb') as f:\n",
    "        pickle.dump(meta,f)\n",
    "\n",
    "def load_meta(meta_root,name):\n",
    "    with open(os.path.join(meta_root,f'{name}.pickle'),'rb') as f:\n",
    "        loaded_meta = pickle.load(f)\n",
    "    return loaded_meta\n",
    "\n",
    "def write_audio(audio, fs, path):\n",
    "    audio = np.clip(audio,-1,1)*np.iinfo(np.int16).max-1\n",
    "    wavfile.write(path, fs, audio.astype(np.int16))\n",
    "\n",
    "clip_seconds = 8\n",
    "print(fs)\n",
    "for i in tqdm(range(len(cleans_val))):\n",
    "    clean = cleans_val[i]\n",
    "    sample = generate_random_noisy_for_speech(opt, clip_seconds, clean, noises_val, clean_root, noise_root)\n",
    "    meta = sample['meta']\n",
    "    room = sample['room']\n",
    "    freefield = sample['freefield']\n",
    "    noisy = sample['noisy']\n",
    "    clean = sample['clean']\n",
    "    name = f'{i:04}'\n",
    "    write_meta(meta_val_root,name)\n",
    "    write_audio(noisy.T,fs,os.path.join(noisy_val_root,f'{name}.wav'))\n",
    "    write_audio(clean,fs,os.path.join(clean_val_root,f'{name}.wav'))\n",
    "    \n",
    "\n",
    "    "
   ]
  },
  {
   "cell_type": "code",
   "execution_count": null,
   "id": "8bbe7b75-d3b6-4342-94ad-bafbd3b6c33e",
   "metadata": {},
   "outputs": [],
   "source": []
  }
 ],
 "metadata": {
  "kernelspec": {
   "display_name": "Python 3 (ipykernel)",
   "language": "python",
   "name": "python3"
  },
  "language_info": {
   "codemirror_mode": {
    "name": "ipython",
    "version": 3
   },
   "file_extension": ".py",
   "mimetype": "text/x-python",
   "name": "python",
   "nbconvert_exporter": "python",
   "pygments_lexer": "ipython3",
   "version": "3.11.5"
  }
 },
 "nbformat": 4,
 "nbformat_minor": 5
}
